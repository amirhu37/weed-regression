{
  "nbformat": 4,
  "nbformat_minor": 0,
  "metadata": {
    "colab": {
      "provenance": [],
      "collapsed_sections": []
    },
    "kernelspec": {
      "name": "python3",
      "display_name": "Python 3"
    },
    "language_info": {
      "name": "python"
    }
  },
  "cells": [
    {
      "cell_type": "code",
      "execution_count": null,
      "metadata": {
        "id": "3eQH3CSLMo55"
      },
      "outputs": [],
      "source": [
        "import numpy as np\n",
        "import pandas as pd\n",
        "import seaborn as sns\n",
        "import matplotlib.pyplot as plt\n",
        "from statsmodels.api import qqplot\n",
        "from sklearn.linear_model import LinearRegression\n",
        "import scipy.stats as st"
      ]
    },
    {
      "cell_type": "markdown",
      "source": [
        "# بارگزاری دیتا\n"
      ],
      "metadata": {
        "id": "7W5aithR7Ob7"
      }
    },
    {
      "cell_type": "markdown",
      "source": [
        "<div dir='rtl'>\n",
        "با استفاده از کتابخانه ی pandas برای بارگزاری داده ها استفاده می کنیم.\n",
        "</div>"
      ],
      "metadata": {
        "id": "PmdvILIsa9Tv"
      }
    },
    {
      "cell_type": "code",
      "source": [
        "df = pd.read_csv('/Mafia.csv')\n",
        "df.head()"
      ],
      "metadata": {
        "colab": {
          "base_uri": "https://localhost:8080/",
          "height": 206
        },
        "id": "3mfYpeoSzH-B",
        "outputId": "f98bf5ff-debb-40a3-810d-a8be9b0d1ee3"
      },
      "execution_count": null,
      "outputs": [
        {
          "output_type": "execute_result",
          "data": {
            "text/plain": [
              "   Marijuana   Amephtamine\n",
              "0  12.177676     38.337974\n",
              "1 -11.456290    -26.370542\n",
              "2  10.152620     30.428883\n",
              "3  11.010183     39.668491\n",
              "4  -1.260112      3.067233"
            ],
            "text/html": [
              "\n",
              "  <div id=\"df-ec1bf172-55df-4c56-97f7-23b90756aa2c\">\n",
              "    <div class=\"colab-df-container\">\n",
              "      <div>\n",
              "<style scoped>\n",
              "    .dataframe tbody tr th:only-of-type {\n",
              "        vertical-align: middle;\n",
              "    }\n",
              "\n",
              "    .dataframe tbody tr th {\n",
              "        vertical-align: top;\n",
              "    }\n",
              "\n",
              "    .dataframe thead th {\n",
              "        text-align: right;\n",
              "    }\n",
              "</style>\n",
              "<table border=\"1\" class=\"dataframe\">\n",
              "  <thead>\n",
              "    <tr style=\"text-align: right;\">\n",
              "      <th></th>\n",
              "      <th>Marijuana</th>\n",
              "      <th>Amephtamine</th>\n",
              "    </tr>\n",
              "  </thead>\n",
              "  <tbody>\n",
              "    <tr>\n",
              "      <th>0</th>\n",
              "      <td>12.177676</td>\n",
              "      <td>38.337974</td>\n",
              "    </tr>\n",
              "    <tr>\n",
              "      <th>1</th>\n",
              "      <td>-11.456290</td>\n",
              "      <td>-26.370542</td>\n",
              "    </tr>\n",
              "    <tr>\n",
              "      <th>2</th>\n",
              "      <td>10.152620</td>\n",
              "      <td>30.428883</td>\n",
              "    </tr>\n",
              "    <tr>\n",
              "      <th>3</th>\n",
              "      <td>11.010183</td>\n",
              "      <td>39.668491</td>\n",
              "    </tr>\n",
              "    <tr>\n",
              "      <th>4</th>\n",
              "      <td>-1.260112</td>\n",
              "      <td>3.067233</td>\n",
              "    </tr>\n",
              "  </tbody>\n",
              "</table>\n",
              "</div>\n",
              "      <button class=\"colab-df-convert\" onclick=\"convertToInteractive('df-ec1bf172-55df-4c56-97f7-23b90756aa2c')\"\n",
              "              title=\"Convert this dataframe to an interactive table.\"\n",
              "              style=\"display:none;\">\n",
              "        \n",
              "  <svg xmlns=\"http://www.w3.org/2000/svg\" height=\"24px\"viewBox=\"0 0 24 24\"\n",
              "       width=\"24px\">\n",
              "    <path d=\"M0 0h24v24H0V0z\" fill=\"none\"/>\n",
              "    <path d=\"M18.56 5.44l.94 2.06.94-2.06 2.06-.94-2.06-.94-.94-2.06-.94 2.06-2.06.94zm-11 1L8.5 8.5l.94-2.06 2.06-.94-2.06-.94L8.5 2.5l-.94 2.06-2.06.94zm10 10l.94 2.06.94-2.06 2.06-.94-2.06-.94-.94-2.06-.94 2.06-2.06.94z\"/><path d=\"M17.41 7.96l-1.37-1.37c-.4-.4-.92-.59-1.43-.59-.52 0-1.04.2-1.43.59L10.3 9.45l-7.72 7.72c-.78.78-.78 2.05 0 2.83L4 21.41c.39.39.9.59 1.41.59.51 0 1.02-.2 1.41-.59l7.78-7.78 2.81-2.81c.8-.78.8-2.07 0-2.86zM5.41 20L4 18.59l7.72-7.72 1.47 1.35L5.41 20z\"/>\n",
              "  </svg>\n",
              "      </button>\n",
              "      \n",
              "  <style>\n",
              "    .colab-df-container {\n",
              "      display:flex;\n",
              "      flex-wrap:wrap;\n",
              "      gap: 12px;\n",
              "    }\n",
              "\n",
              "    .colab-df-convert {\n",
              "      background-color: #E8F0FE;\n",
              "      border: none;\n",
              "      border-radius: 50%;\n",
              "      cursor: pointer;\n",
              "      display: none;\n",
              "      fill: #1967D2;\n",
              "      height: 32px;\n",
              "      padding: 0 0 0 0;\n",
              "      width: 32px;\n",
              "    }\n",
              "\n",
              "    .colab-df-convert:hover {\n",
              "      background-color: #E2EBFA;\n",
              "      box-shadow: 0px 1px 2px rgba(60, 64, 67, 0.3), 0px 1px 3px 1px rgba(60, 64, 67, 0.15);\n",
              "      fill: #174EA6;\n",
              "    }\n",
              "\n",
              "    [theme=dark] .colab-df-convert {\n",
              "      background-color: #3B4455;\n",
              "      fill: #D2E3FC;\n",
              "    }\n",
              "\n",
              "    [theme=dark] .colab-df-convert:hover {\n",
              "      background-color: #434B5C;\n",
              "      box-shadow: 0px 1px 3px 1px rgba(0, 0, 0, 0.15);\n",
              "      filter: drop-shadow(0px 1px 2px rgba(0, 0, 0, 0.3));\n",
              "      fill: #FFFFFF;\n",
              "    }\n",
              "  </style>\n",
              "\n",
              "      <script>\n",
              "        const buttonEl =\n",
              "          document.querySelector('#df-ec1bf172-55df-4c56-97f7-23b90756aa2c button.colab-df-convert');\n",
              "        buttonEl.style.display =\n",
              "          google.colab.kernel.accessAllowed ? 'block' : 'none';\n",
              "\n",
              "        async function convertToInteractive(key) {\n",
              "          const element = document.querySelector('#df-ec1bf172-55df-4c56-97f7-23b90756aa2c');\n",
              "          const dataTable =\n",
              "            await google.colab.kernel.invokeFunction('convertToInteractive',\n",
              "                                                     [key], {});\n",
              "          if (!dataTable) return;\n",
              "\n",
              "          const docLinkHtml = 'Like what you see? Visit the ' +\n",
              "            '<a target=\"_blank\" href=https://colab.research.google.com/notebooks/data_table.ipynb>data table notebook</a>'\n",
              "            + ' to learn more about interactive tables.';\n",
              "          element.innerHTML = '';\n",
              "          dataTable['output_type'] = 'display_data';\n",
              "          await google.colab.output.renderOutput(dataTable, element);\n",
              "          const docLink = document.createElement('div');\n",
              "          docLink.innerHTML = docLinkHtml;\n",
              "          element.appendChild(docLink);\n",
              "        }\n",
              "      </script>\n",
              "    </div>\n",
              "  </div>\n",
              "  "
            ]
          },
          "metadata": {},
          "execution_count": 2
        }
      ]
    },
    {
      "cell_type": "markdown",
      "source": [
        "# مدیریت داده‌های پرت"
      ],
      "metadata": {
        "id": "0ukUbqqkzga1"
      }
    },
    {
      "cell_type": "markdown",
      "source": [
        "<div dir='rtl'>\n",
        "ابتدا باید تعداد داده های null را پیدا کنیم؛\n",
        "خوشبختانه داده ی null وجود ندارد\n",
        "مرحله ی بعدی مدیریت داده های پرت است که برای این کار از روش z-scores استفاده می کنیم.\n",
        "بعد از پیدا کدن داده های پرت به علت اینکه تعداد کمی دارد آن ها را عضو خنثی (صفر) جایگزین می کنیم.\n",
        "</div>"
      ],
      "metadata": {
        "id": "8sMAN1R3bSz4"
      }
    },
    {
      "cell_type": "code",
      "source": [
        "print(df.isnull().sum())\n",
        "\n",
        "# z-score\n",
        "def zscore_outlier(data):\n",
        "  outliers = []\n",
        "  threshold=3\n",
        "  mean_1 = np.mean(data)\n",
        "  std_1 =np.std(data)\n",
        "  for y in data:\n",
        "    z_score = (y - mean_1)/std_1\n",
        "    if np.abs(z_score) > threshold:\n",
        "      outliers.append(y)\n",
        "  return outliers\n",
        "\n",
        "print(zscore_outlier(df['Marijuana']))\n",
        "print(zscore_outlier(df[' Amephtamine'] ))"
      ],
      "metadata": {
        "colab": {
          "base_uri": "https://localhost:8080/"
        },
        "id": "n_bSGmPNzaMv",
        "outputId": "7754946a-cfbe-4899-f448-31ddcbe31e50"
      },
      "execution_count": null,
      "outputs": [
        {
          "output_type": "stream",
          "name": "stdout",
          "text": [
            "Marijuana       0\n",
            " Amephtamine    0\n",
            "dtype: int64\n",
            "[-33.36835494545019]\n",
            "[-74.16301088744649, -63.429668465325776]\n"
          ]
        }
      ]
    },
    {
      "cell_type": "code",
      "source": [
        "df[\"Marijuana\"] = df[\"Marijuana\"].replace({ -33.36835494545019: 0 })\n",
        "df[\" Amephtamine\"] = df[\" Amephtamine\"].replace({ -74.16301088744649: 0 ,-63.429668465325776 : 0 })"
      ],
      "metadata": {
        "id": "9IKml5pd07E_"
      },
      "execution_count": null,
      "outputs": []
    },
    {
      "cell_type": "markdown",
      "source": [
        "# تست نرمالیتی"
      ],
      "metadata": {
        "id": "cSOGqX3X3vde"
      }
    },
    {
      "cell_type": "markdown",
      "source": [
        "<div dir='rtl'>\n",
        "با استفاده از qq-plot تست شارپینو برای مشخص کردن نرمالیتی استفاده می کنیم\n",
        "</div>"
      ],
      "metadata": {
        "id": "HUDvu5NOcri3"
      }
    },
    {
      "cell_type": "code",
      "source": [
        "## Sharpino Test\n",
        "stat1, p1 = st.shapiro( df[\"Marijuana\"] )\n",
        "print('Marijuana Sharpino Test\\n stat=%.3f, p=%.3f' % (stat1, p1))\n",
        "\n",
        "stat2, p2 = st.shapiro( df[\" Amephtamine\"] )\n",
        "print('Amephtamine Sharpino Test\\n stat=%.3f, p=%.3f' % (stat2, p2))\n",
        "\n",
        "plt.figure(dpi=90)\n",
        "qqplot(df['Marijuana'], line='45');\n",
        "df[' Amephtamine'] = (df['Marijuana'] - df[' Amephtamine'].mean()) / df['Marijuana'].std();\n",
        "qqplot(df[' Amephtamine'], line='45');"
      ],
      "metadata": {
        "colab": {
          "base_uri": "https://localhost:8080/",
          "height": 632
        },
        "id": "QTOj1Lmg3kna",
        "outputId": "c8036650-43d3-4832-e895-3942b4445b41"
      },
      "execution_count": null,
      "outputs": [
        {
          "output_type": "stream",
          "name": "stdout",
          "text": [
            "Marijuana Sharpino Test\n",
            " stat=0.998, p=0.203\n",
            "Amephtamine Sharpino Test\n",
            " stat=0.998, p=0.203\n"
          ]
        },
        {
          "output_type": "display_data",
          "data": {
            "text/plain": [
              "<Figure size 540x360 with 0 Axes>"
            ]
          },
          "metadata": {}
        },
        {
          "output_type": "display_data",
          "data": {
            "text/plain": [
              "<Figure size 432x288 with 1 Axes>"
            ],
            "image/png": "[encoded data removed]"
          },
          "metadata": {
            "needs_background": "light"
          }
        },
        {
          "output_type": "display_data",
          "data": {
            "text/plain": [
              "<Figure size 432x288 with 1 Axes>"
            ],
            "image/png": "[encoded data removed]"
          },
          "metadata": {
            "needs_background": "light"
          }
        }
      ]
    },
    {
      "cell_type": "markdown",
      "source": [
        "# تشخیص هم‌بستگی دو متغیر نسبت به هم"
      ],
      "metadata": {
        "id": "MqYPIj5j4ptr"
      }
    },
    {
      "cell_type": "markdown",
      "source": [
        "<div dir='rtl'>\n",
        "با استفاده از ضریب همبستگی پیرسون و جدول heat-map میزان همبستگی بین دو ستون جدول را پیدا می کنیم.\n",
        "</div>"
      ],
      "metadata": {
        "id": "uaSRRGKpd974"
      }
    },
    {
      "cell_type": "code",
      "source": [
        "stat, p = st.pearsonr( df['Marijuana'] , df[' Amephtamine'] )\n",
        "\n",
        "print('Pearson\\n stat=%.3f, p=%.3f' % (stat, p))\n",
        "\n",
        "\n",
        "sns.heatmap(df.corr(), cmap='mako');\n",
        "df.drop(' Amephtamine', axis=1, inplace= False)\n",
        "sns.heatmap(df.corr(), cmap='mako');"
      ],
      "metadata": {
        "colab": {
          "base_uri": "https://localhost:8080/",
          "height": 305
        },
        "id": "XgSjUjUw3mJF",
        "outputId": "8cce3c11-f8b0-418e-a38e-bef6b8388a30"
      },
      "execution_count": null,
      "outputs": [
        {
          "output_type": "stream",
          "name": "stdout",
          "text": [
            "Pearson\n",
            " stat=1.000, p=0.000\n"
          ]
        },
        {
          "output_type": "display_data",
          "data": {
            "text/plain": [
              "<Figure size 432x288 with 3 Axes>"
            ],
            "image/png": "[encoded data removed]"
          },
          "metadata": {
            "needs_background": "light"
          }
        }
      ]
    },
    {
      "cell_type": "markdown",
      "source": [
        "# فیت کردن و ارزیابی رگرسیون"
      ],
      "metadata": {
        "id": "_CPA52j75Iqw"
      }
    },
    {
      "cell_type": "markdown",
      "source": [
        "<div dir='rtl'>\n",
        "بعد از انجام تست های خواسته شده حالا زمان ساخت مدل رگرسیون است\n",
        "</div>"
      ],
      "metadata": {
        "id": "ZPpaYGkafHZq"
      }
    },
    {
      "cell_type": "code",
      "source": [
        "linReg = LinearRegression()\n",
        "Marijuana = df['Marijuana']\n",
        "Amephtamine = df[' Amephtamine']\n",
        "linReg.fit( Marijuana.values.reshape(-1,1), Amephtamine)\n",
        "y_hat = linReg.predict(Marijuana.values.reshape(-1,1))\n",
        "plt.scatter(Marijuana , Amephtamine, color='blue')\n",
        "plt.plot(Marijuana , y_hat, color=\"red\")"
      ],
      "metadata": {
        "colab": {
          "base_uri": "https://localhost:8080/",
          "height": 283
        },
        "id": "cS6mmW3J5E8l",
        "outputId": "cbf7a0b3-1f36-4a6d-f359-cda22f82d177"
      },
      "execution_count": null,
      "outputs": [
        {
          "output_type": "execute_result",
          "data": {
            "text/plain": [
              "[<matplotlib.lines.Line2D at 0x7f5047a47950>]"
            ]
          },
          "metadata": {},
          "execution_count": 8
        },
        {
          "output_type": "display_data",
          "data": {
            "text/plain": [
              "<Figure size 432x288 with 1 Axes>"
            ],
            "image/png": "[encoded data removed]"
          },
          "metadata": {
            "needs_background": "light"
          }
        }
      ]
    },
    {
      "cell_type": "markdown",
      "source": [
        "# ارزیابی مدل"
      ],
      "metadata": {
        "id": "QrJBsa6w7ZWp"
      }
    },
    {
      "cell_type": "markdown",
      "source": [
        "<div dir='rtl'>\n",
        "بعد از ساخت مدل باید مدل را ارزیابی کنیم که آیا مدل خوب و دقیقی ساخته ایم یا نه\n",
        "</div>"
      ],
      "metadata": {
        "id": "JPybOlDcflrU"
      }
    },
    {
      "cell_type": "code",
      "source": [
        "y = Amephtamine.values\n",
        "MSEs = y - y_hat ** 2\n",
        "qqplot(MSEs, line='45');\n",
        "np.mean(MSEs)"
      ],
      "metadata": {
        "colab": {
          "base_uri": "https://localhost:8080/",
          "height": 297
        },
        "id": "DZgnBTnc6FPG",
        "outputId": "360b0748-902c-4131-97ac-952afe4cea7a"
      },
      "execution_count": null,
      "outputs": [
        {
          "output_type": "execute_result",
          "data": {
            "text/plain": [
              "-0.7554320598376603"
            ]
          },
          "metadata": {},
          "execution_count": 9
        },
        {
          "output_type": "display_data",
          "data": {
            "text/plain": [
              "<Figure size 432x288 with 1 Axes>"
            ],
            "image/png": "[encoded data removed]"
          },
          "metadata": {
            "needs_background": "light"
          }
        }
      ]
    },
    {
      "cell_type": "code",
      "source": [
        "plt.hist(MSEs, bins=100);"
      ],
      "metadata": {
        "colab": {
          "base_uri": "https://localhost:8080/",
          "height": 265
        },
        "id": "vJJVANKX7r91",
        "outputId": "6f56b242-0800-462e-f309-cd8f9f109839"
      },
      "execution_count": null,
      "outputs": [
        {
          "output_type": "display_data",
          "data": {
            "text/plain": [
              "<Figure size 432x288 with 1 Axes>"
            ],
            "image/png": "[encoded data removed]"
          },
          "metadata": {
            "needs_background": "light"
          }
        }
      ]
    }
  ]
}